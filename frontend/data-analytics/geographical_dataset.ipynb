{
 "cells": [
  {
   "cell_type": "code",
   "execution_count": 1,
   "id": "60904a32",
   "metadata": {},
   "outputs": [],
   "source": [
    "import pandas as pd\n",
    "import matplotlib.pyplot as plt"
   ]
  },
  {
   "cell_type": "code",
   "execution_count": 2,
   "id": "a4b031f0",
   "metadata": {},
   "outputs": [
    {
     "name": "stderr",
     "output_type": "stream",
     "text": [
      "/var/folders/kt/35dw3s355qn9fvn05jk8sph80000gn/T/ipykernel_48426/2376362525.py:1: DtypeWarning: Columns (8,10,11,13,15,16,17,18,20,21,23,24,26,27,28,29,30,32) have mixed types. Specify dtype option on import or set low_memory=False.\n",
      "  df = pd.read_csv('Phytoplankton_harmonized_database_revised.csv', sep=\",\", encoding='latin1')\n"
     ]
    }
   ],
   "source": [
    "df = pd.read_csv('Phytoplankton_harmonized_database_revised.csv', sep=\",\", encoding='latin1')"
   ]
  },
  {
   "cell_type": "code",
   "execution_count": 3,
   "id": "c729d5cf",
   "metadata": {},
   "outputs": [
    {
     "name": "stdout",
     "output_type": "stream",
     "text": [
      "Config -> prioritize_india=True, region_mode='india_region'\n"
     ]
    }
   ],
   "source": [
    "# India-priority configuration and helpers\n",
    "prioritize_india = True  # default bias towards India\n",
    "region_mode = 'india_region'  # options: 'india_region' (bbox), 'india_land' (polygon), 'global'\n",
    "INDIA_BBOX = {\n",
    "    'lat_min': 6.0,   # includes Andaman/Nicobar latitude range partially\n",
    "    'lat_max': 37.5,\n",
    "    'lon_min': 68.0,  # covers Arabian Sea to Bay of Bengal coasts\n",
    "    'lon_max': 98.0\n",
    "}\n",
    "\n",
    "def filter_to_region(df_in, mode='india_region', bbox=None):\n",
    "    \"\"\"\n",
    "    Filter a DataFrame by region.\n",
    "\n",
    "    Modes:\n",
    "    - 'global': return unchanged\n",
    "    - 'india_region': fast bounding-box filter (coasts + nearby offshore)\n",
    "    - 'india_land': use geopandas Natural Earth polygon for India's land area;\n",
    "       falls back to bbox if geopandas or dataset not available.\n",
    "    \"\"\"\n",
    "    if df_in is None or len(df_in) == 0:\n",
    "        return df_in\n",
    "    df1 = df_in.copy()\n",
    "    # ensure coordinate columns are numeric\n",
    "    if 'decimalLatitude' in df1.columns:\n",
    "        df1['decimalLatitude'] = pd.to_numeric(df1['decimalLatitude'], errors='coerce')\n",
    "    if 'decimalLongitude' in df1.columns:\n",
    "        df1['decimalLongitude'] = pd.to_numeric(df1['decimalLongitude'], errors='coerce')\n",
    "    df1 = df1.dropna(subset=['decimalLatitude','decimalLongitude'])\n",
    "\n",
    "    if mode == 'global':\n",
    "        return df1\n",
    "\n",
    "    if mode == 'india_region':\n",
    "        b = bbox or INDIA_BBOX\n",
    "        lat_ok = df1['decimalLatitude'].between(b['lat_min'], b['lat_max'], inclusive='both')\n",
    "        lon_ok = df1['decimalLongitude'].between(b['lon_min'], b['lon_max'], inclusive='both')\n",
    "        return df1[lat_ok & lon_ok]\n",
    "\n",
    "    if mode == 'india_land':\n",
    "        try:\n",
    "            import geopandas as gpd\n",
    "            gdf = gpd.GeoDataFrame(\n",
    "                df1,\n",
    "                geometry=gpd.points_from_xy(df1['decimalLongitude'], df1['decimalLatitude']),\n",
    "                crs='EPSG:4326'\n",
    "            )\n",
    "            world = gpd.read_file(gpd.datasets.get_path('naturalearth_lowres'))\n",
    "            india = world[world['name'] == 'India']\n",
    "            if india.empty:\n",
    "                print(\"India polygon not found in Natural Earth; falling back to bbox.\")\n",
    "                return filter_to_region(df1, 'india_region', bbox)\n",
    "            try:\n",
    "                joined = gpd.sjoin(gdf, india[['geometry']], how='inner', predicate='within')\n",
    "            except TypeError:  # older geopandas uses 'op'\n",
    "                joined = gpd.sjoin(gdf, india[['geometry']], how='inner', op='within')\n",
    "            # drop geometry to return a pandas DataFrame-like structure\n",
    "            result = joined.drop(columns=['geometry'], errors='ignore')\n",
    "            # ensure original columns retained\n",
    "            return result[df1.columns.intersection(result.columns)]\n",
    "        except Exception as e:\n",
    "            print(f\"Geopandas-based land filter failed ({e}); falling back to bbox.\")\n",
    "            return filter_to_region(df1, 'india_region', bbox)\n",
    "\n",
    "    # unknown mode -> default to bbox\n",
    "    return filter_to_region(df1, 'india_region', bbox)\n",
    "\n",
    "print(f\"Config -> prioritize_india={prioritize_india}, region_mode='{region_mode}'\")"
   ]
  },
  {
   "cell_type": "code",
   "execution_count": 4,
   "id": "259a8481",
   "metadata": {},
   "outputs": [
    {
     "data": {
      "text/html": [
       "<div>\n",
       "<style scoped>\n",
       "    .dataframe tbody tr th:only-of-type {\n",
       "        vertical-align: middle;\n",
       "    }\n",
       "\n",
       "    .dataframe tbody tr th {\n",
       "        vertical-align: top;\n",
       "    }\n",
       "\n",
       "    .dataframe thead th {\n",
       "        text-align: right;\n",
       "    }\n",
       "</style>\n",
       "<table border=\"1\" class=\"dataframe\">\n",
       "  <thead>\n",
       "    <tr style=\"text-align: right;\">\n",
       "      <th></th>\n",
       "      <th>scientificName</th>\n",
       "      <th>decimalLongitude</th>\n",
       "      <th>decimalLatitude</th>\n",
       "      <th>year</th>\n",
       "      <th>month</th>\n",
       "      <th>day</th>\n",
       "      <th>depth</th>\n",
       "      <th>depthAccuracy</th>\n",
       "      <th>taxonRank</th>\n",
       "      <th>occurrenceStatus</th>\n",
       "      <th>...</th>\n",
       "      <th>scientificNameOriginal_gbif</th>\n",
       "      <th>scientificNameOriginal_obis</th>\n",
       "      <th>scientificNameOriginal_maredat</th>\n",
       "      <th>scientificNameOriginal_villar</th>\n",
       "      <th>scientificNameOriginal_sal</th>\n",
       "      <th>organismQuantity</th>\n",
       "      <th>organismQuantityType</th>\n",
       "      <th>individualCount</th>\n",
       "      <th>yearOfDataAccess</th>\n",
       "      <th>flag</th>\n",
       "    </tr>\n",
       "  </thead>\n",
       "  <tbody>\n",
       "    <tr>\n",
       "      <th>0</th>\n",
       "      <td>Carteria marina</td>\n",
       "      <td>-79.2150</td>\n",
       "      <td>-9.4820</td>\n",
       "      <td>2000</td>\n",
       "      <td>2</td>\n",
       "      <td>11.0</td>\n",
       "      <td>10.0</td>\n",
       "      <td>NaN</td>\n",
       "      <td>SPECIES</td>\n",
       "      <td>PRESENT</td>\n",
       "      <td>...</td>\n",
       "      <td>NaN</td>\n",
       "      <td>Carteria marina</td>\n",
       "      <td>NaN</td>\n",
       "      <td>NaN</td>\n",
       "      <td>NaN</td>\n",
       "      <td>NaN</td>\n",
       "      <td>NaN</td>\n",
       "      <td>NaN</td>\n",
       "      <td>2015</td>\n",
       "      <td>NONE</td>\n",
       "    </tr>\n",
       "    <tr>\n",
       "      <th>1</th>\n",
       "      <td>Coccopterum labyrinthus</td>\n",
       "      <td>-11.6042</td>\n",
       "      <td>40.6832</td>\n",
       "      <td>1993</td>\n",
       "      <td>5</td>\n",
       "      <td>11.0</td>\n",
       "      <td>0.0</td>\n",
       "      <td>NaN</td>\n",
       "      <td>SPECIES</td>\n",
       "      <td>PRESENT</td>\n",
       "      <td>...</td>\n",
       "      <td>Coccopterum labyrinthus</td>\n",
       "      <td>NaN</td>\n",
       "      <td>NaN</td>\n",
       "      <td>NaN</td>\n",
       "      <td>NaN</td>\n",
       "      <td>NaN</td>\n",
       "      <td>NaN</td>\n",
       "      <td>NaN</td>\n",
       "      <td>2017</td>\n",
       "      <td>S</td>\n",
       "    </tr>\n",
       "    <tr>\n",
       "      <th>2</th>\n",
       "      <td>Coccopterum labyrinthus</td>\n",
       "      <td>-11.6042</td>\n",
       "      <td>40.6832</td>\n",
       "      <td>1993</td>\n",
       "      <td>5</td>\n",
       "      <td>11.0</td>\n",
       "      <td>139.0</td>\n",
       "      <td>NaN</td>\n",
       "      <td>SPECIES</td>\n",
       "      <td>PRESENT</td>\n",
       "      <td>...</td>\n",
       "      <td>Coccopterum labyrinthus</td>\n",
       "      <td>NaN</td>\n",
       "      <td>NaN</td>\n",
       "      <td>NaN</td>\n",
       "      <td>NaN</td>\n",
       "      <td>NaN</td>\n",
       "      <td>NaN</td>\n",
       "      <td>NaN</td>\n",
       "      <td>2017</td>\n",
       "      <td>S</td>\n",
       "    </tr>\n",
       "    <tr>\n",
       "      <th>3</th>\n",
       "      <td>Coccopterum labyrinthus</td>\n",
       "      <td>-11.6042</td>\n",
       "      <td>40.6832</td>\n",
       "      <td>1993</td>\n",
       "      <td>5</td>\n",
       "      <td>11.0</td>\n",
       "      <td>181.0</td>\n",
       "      <td>NaN</td>\n",
       "      <td>SPECIES</td>\n",
       "      <td>PRESENT</td>\n",
       "      <td>...</td>\n",
       "      <td>Coccopterum labyrinthus</td>\n",
       "      <td>NaN</td>\n",
       "      <td>NaN</td>\n",
       "      <td>NaN</td>\n",
       "      <td>NaN</td>\n",
       "      <td>NaN</td>\n",
       "      <td>NaN</td>\n",
       "      <td>NaN</td>\n",
       "      <td>2017</td>\n",
       "      <td>S</td>\n",
       "    </tr>\n",
       "    <tr>\n",
       "      <th>4</th>\n",
       "      <td>Coccopterum labyrinthus</td>\n",
       "      <td>-11.6042</td>\n",
       "      <td>40.6832</td>\n",
       "      <td>1993</td>\n",
       "      <td>5</td>\n",
       "      <td>11.0</td>\n",
       "      <td>22.0</td>\n",
       "      <td>NaN</td>\n",
       "      <td>SPECIES</td>\n",
       "      <td>PRESENT</td>\n",
       "      <td>...</td>\n",
       "      <td>Coccopterum labyrinthus</td>\n",
       "      <td>NaN</td>\n",
       "      <td>NaN</td>\n",
       "      <td>NaN</td>\n",
       "      <td>NaN</td>\n",
       "      <td>NaN</td>\n",
       "      <td>NaN</td>\n",
       "      <td>NaN</td>\n",
       "      <td>2017</td>\n",
       "      <td>S</td>\n",
       "    </tr>\n",
       "  </tbody>\n",
       "</table>\n",
       "<p>5 rows × 36 columns</p>\n",
       "</div>"
      ],
      "text/plain": [
       "            scientificName  decimalLongitude  decimalLatitude  year  month  \\\n",
       "0          Carteria marina          -79.2150          -9.4820  2000      2   \n",
       "1  Coccopterum labyrinthus          -11.6042          40.6832  1993      5   \n",
       "2  Coccopterum labyrinthus          -11.6042          40.6832  1993      5   \n",
       "3  Coccopterum labyrinthus          -11.6042          40.6832  1993      5   \n",
       "4  Coccopterum labyrinthus          -11.6042          40.6832  1993      5   \n",
       "\n",
       "    day  depth  depthAccuracy taxonRank occurrenceStatus  ...  \\\n",
       "0  11.0   10.0            NaN   SPECIES          PRESENT  ...   \n",
       "1  11.0    0.0            NaN   SPECIES          PRESENT  ...   \n",
       "2  11.0  139.0            NaN   SPECIES          PRESENT  ...   \n",
       "3  11.0  181.0            NaN   SPECIES          PRESENT  ...   \n",
       "4  11.0   22.0            NaN   SPECIES          PRESENT  ...   \n",
       "\n",
       "  scientificNameOriginal_gbif scientificNameOriginal_obis  \\\n",
       "0                         NaN             Carteria marina   \n",
       "1     Coccopterum labyrinthus                         NaN   \n",
       "2     Coccopterum labyrinthus                         NaN   \n",
       "3     Coccopterum labyrinthus                         NaN   \n",
       "4     Coccopterum labyrinthus                         NaN   \n",
       "\n",
       "  scientificNameOriginal_maredat scientificNameOriginal_villar  \\\n",
       "0                            NaN                           NaN   \n",
       "1                            NaN                           NaN   \n",
       "2                            NaN                           NaN   \n",
       "3                            NaN                           NaN   \n",
       "4                            NaN                           NaN   \n",
       "\n",
       "  scientificNameOriginal_sal organismQuantity organismQuantityType  \\\n",
       "0                        NaN              NaN                  NaN   \n",
       "1                        NaN              NaN                  NaN   \n",
       "2                        NaN              NaN                  NaN   \n",
       "3                        NaN              NaN                  NaN   \n",
       "4                        NaN              NaN                  NaN   \n",
       "\n",
       "  individualCount yearOfDataAccess  flag  \n",
       "0             NaN             2015  NONE  \n",
       "1             NaN             2017     S  \n",
       "2             NaN             2017     S  \n",
       "3             NaN             2017     S  \n",
       "4             NaN             2017     S  \n",
       "\n",
       "[5 rows x 36 columns]"
      ]
     },
     "execution_count": 4,
     "metadata": {},
     "output_type": "execute_result"
    }
   ],
   "source": [
    "df.head()"
   ]
  },
  {
   "cell_type": "code",
   "execution_count": 5,
   "id": "580e9099",
   "metadata": {},
   "outputs": [
    {
     "data": {
      "text/plain": [
       "array(['Carteria marina', 'Coccopterum labyrinthus',\n",
       "       'Dunaliella tertiolecta', ..., 'Fibrocapsa japonica',\n",
       "       'Olisthodiscus luteus', 'Picoeukaryotes'], dtype=object)"
      ]
     },
     "execution_count": 5,
     "metadata": {},
     "output_type": "execute_result"
    }
   ],
   "source": [
    "df['scientificName'].unique()"
   ]
  },
  {
   "cell_type": "code",
   "execution_count": 6,
   "id": "57390fed",
   "metadata": {},
   "outputs": [
    {
     "data": {
      "text/plain": [
       "array(['Chlorophyceae', 'Prasinophyceae', 'Pyramimonadophyceae',\n",
       "       'Chlorodendrophyceae', 'Chlorophyta incertae sedis',\n",
       "       'Cryptophyceae', 'Cryptophyta incertae sedis', 'Telonemea',\n",
       "       'Cyanophyceae', 'Euglenoidea', 'Prymnesiophyceae',\n",
       "       'Haptophyta incertae sedis', 'Coccolithophyceae', 'Dinophyceae',\n",
       "       'Bacillariophyceae', 'Chrysophyceae', 'Dictyochophyceae',\n",
       "       'Pelagophyceae', 'Raphidophyceae', nan], dtype=object)"
      ]
     },
     "execution_count": 6,
     "metadata": {},
     "output_type": "execute_result"
    }
   ],
   "source": [
    "df['class'].unique()"
   ]
  },
  {
   "cell_type": "code",
   "execution_count": 7,
   "id": "c8aa4323",
   "metadata": {},
   "outputs": [
    {
     "data": {
      "text/plain": [
       "array(['Chlorophyta', 'Cryptophyta', 'Cyanobacteria', 'Euglenozoa',\n",
       "       'Haptophyta', 'Myzozoa', 'Ochrophyta', nan], dtype=object)"
      ]
     },
     "execution_count": 7,
     "metadata": {},
     "output_type": "execute_result"
    }
   ],
   "source": [
    "df['phylum'].unique()"
   ]
  },
  {
   "cell_type": "code",
   "execution_count": 8,
   "id": "322563a2",
   "metadata": {},
   "outputs": [],
   "source": [
    "df.drop(['depthAccuracy', 'occurrenceStatus'], inplace = True, axis = 1)"
   ]
  },
  {
   "cell_type": "code",
   "execution_count": 9,
   "id": "5982245d",
   "metadata": {},
   "outputs": [
    {
     "data": {
      "text/html": [
       "<div>\n",
       "<style scoped>\n",
       "    .dataframe tbody tr th:only-of-type {\n",
       "        vertical-align: middle;\n",
       "    }\n",
       "\n",
       "    .dataframe tbody tr th {\n",
       "        vertical-align: top;\n",
       "    }\n",
       "\n",
       "    .dataframe thead th {\n",
       "        text-align: right;\n",
       "    }\n",
       "</style>\n",
       "<table border=\"1\" class=\"dataframe\">\n",
       "  <thead>\n",
       "    <tr style=\"text-align: right;\">\n",
       "      <th></th>\n",
       "      <th>scientificName</th>\n",
       "      <th>decimalLongitude</th>\n",
       "      <th>decimalLatitude</th>\n",
       "      <th>year</th>\n",
       "      <th>month</th>\n",
       "      <th>day</th>\n",
       "      <th>depth</th>\n",
       "      <th>taxonRank</th>\n",
       "      <th>phylum</th>\n",
       "      <th>class</th>\n",
       "      <th>...</th>\n",
       "      <th>scientificNameOriginal_gbif</th>\n",
       "      <th>scientificNameOriginal_obis</th>\n",
       "      <th>scientificNameOriginal_maredat</th>\n",
       "      <th>scientificNameOriginal_villar</th>\n",
       "      <th>scientificNameOriginal_sal</th>\n",
       "      <th>organismQuantity</th>\n",
       "      <th>organismQuantityType</th>\n",
       "      <th>individualCount</th>\n",
       "      <th>yearOfDataAccess</th>\n",
       "      <th>flag</th>\n",
       "    </tr>\n",
       "  </thead>\n",
       "  <tbody>\n",
       "    <tr>\n",
       "      <th>0</th>\n",
       "      <td>Carteria marina</td>\n",
       "      <td>-79.2150</td>\n",
       "      <td>-9.4820</td>\n",
       "      <td>2000</td>\n",
       "      <td>2</td>\n",
       "      <td>11.0</td>\n",
       "      <td>10.0</td>\n",
       "      <td>SPECIES</td>\n",
       "      <td>Chlorophyta</td>\n",
       "      <td>Chlorophyceae</td>\n",
       "      <td>...</td>\n",
       "      <td>NaN</td>\n",
       "      <td>Carteria marina</td>\n",
       "      <td>NaN</td>\n",
       "      <td>NaN</td>\n",
       "      <td>NaN</td>\n",
       "      <td>NaN</td>\n",
       "      <td>NaN</td>\n",
       "      <td>NaN</td>\n",
       "      <td>2015</td>\n",
       "      <td>NONE</td>\n",
       "    </tr>\n",
       "    <tr>\n",
       "      <th>1</th>\n",
       "      <td>Coccopterum labyrinthus</td>\n",
       "      <td>-11.6042</td>\n",
       "      <td>40.6832</td>\n",
       "      <td>1993</td>\n",
       "      <td>5</td>\n",
       "      <td>11.0</td>\n",
       "      <td>0.0</td>\n",
       "      <td>SPECIES</td>\n",
       "      <td>Chlorophyta</td>\n",
       "      <td>Prasinophyceae</td>\n",
       "      <td>...</td>\n",
       "      <td>Coccopterum labyrinthus</td>\n",
       "      <td>NaN</td>\n",
       "      <td>NaN</td>\n",
       "      <td>NaN</td>\n",
       "      <td>NaN</td>\n",
       "      <td>NaN</td>\n",
       "      <td>NaN</td>\n",
       "      <td>NaN</td>\n",
       "      <td>2017</td>\n",
       "      <td>S</td>\n",
       "    </tr>\n",
       "    <tr>\n",
       "      <th>2</th>\n",
       "      <td>Coccopterum labyrinthus</td>\n",
       "      <td>-11.6042</td>\n",
       "      <td>40.6832</td>\n",
       "      <td>1993</td>\n",
       "      <td>5</td>\n",
       "      <td>11.0</td>\n",
       "      <td>139.0</td>\n",
       "      <td>SPECIES</td>\n",
       "      <td>Chlorophyta</td>\n",
       "      <td>Prasinophyceae</td>\n",
       "      <td>...</td>\n",
       "      <td>Coccopterum labyrinthus</td>\n",
       "      <td>NaN</td>\n",
       "      <td>NaN</td>\n",
       "      <td>NaN</td>\n",
       "      <td>NaN</td>\n",
       "      <td>NaN</td>\n",
       "      <td>NaN</td>\n",
       "      <td>NaN</td>\n",
       "      <td>2017</td>\n",
       "      <td>S</td>\n",
       "    </tr>\n",
       "    <tr>\n",
       "      <th>3</th>\n",
       "      <td>Coccopterum labyrinthus</td>\n",
       "      <td>-11.6042</td>\n",
       "      <td>40.6832</td>\n",
       "      <td>1993</td>\n",
       "      <td>5</td>\n",
       "      <td>11.0</td>\n",
       "      <td>181.0</td>\n",
       "      <td>SPECIES</td>\n",
       "      <td>Chlorophyta</td>\n",
       "      <td>Prasinophyceae</td>\n",
       "      <td>...</td>\n",
       "      <td>Coccopterum labyrinthus</td>\n",
       "      <td>NaN</td>\n",
       "      <td>NaN</td>\n",
       "      <td>NaN</td>\n",
       "      <td>NaN</td>\n",
       "      <td>NaN</td>\n",
       "      <td>NaN</td>\n",
       "      <td>NaN</td>\n",
       "      <td>2017</td>\n",
       "      <td>S</td>\n",
       "    </tr>\n",
       "    <tr>\n",
       "      <th>4</th>\n",
       "      <td>Coccopterum labyrinthus</td>\n",
       "      <td>-11.6042</td>\n",
       "      <td>40.6832</td>\n",
       "      <td>1993</td>\n",
       "      <td>5</td>\n",
       "      <td>11.0</td>\n",
       "      <td>22.0</td>\n",
       "      <td>SPECIES</td>\n",
       "      <td>Chlorophyta</td>\n",
       "      <td>Prasinophyceae</td>\n",
       "      <td>...</td>\n",
       "      <td>Coccopterum labyrinthus</td>\n",
       "      <td>NaN</td>\n",
       "      <td>NaN</td>\n",
       "      <td>NaN</td>\n",
       "      <td>NaN</td>\n",
       "      <td>NaN</td>\n",
       "      <td>NaN</td>\n",
       "      <td>NaN</td>\n",
       "      <td>2017</td>\n",
       "      <td>S</td>\n",
       "    </tr>\n",
       "    <tr>\n",
       "      <th>...</th>\n",
       "      <td>...</td>\n",
       "      <td>...</td>\n",
       "      <td>...</td>\n",
       "      <td>...</td>\n",
       "      <td>...</td>\n",
       "      <td>...</td>\n",
       "      <td>...</td>\n",
       "      <td>...</td>\n",
       "      <td>...</td>\n",
       "      <td>...</td>\n",
       "      <td>...</td>\n",
       "      <td>...</td>\n",
       "      <td>...</td>\n",
       "      <td>...</td>\n",
       "      <td>...</td>\n",
       "      <td>...</td>\n",
       "      <td>...</td>\n",
       "      <td>...</td>\n",
       "      <td>...</td>\n",
       "      <td>...</td>\n",
       "      <td>...</td>\n",
       "    </tr>\n",
       "    <tr>\n",
       "      <th>1360616</th>\n",
       "      <td>Picoeukaryotes</td>\n",
       "      <td>95.0100</td>\n",
       "      <td>-39.9900</td>\n",
       "      <td>1995</td>\n",
       "      <td>9</td>\n",
       "      <td>29.0</td>\n",
       "      <td>51.0</td>\n",
       "      <td>NaN</td>\n",
       "      <td>NaN</td>\n",
       "      <td>NaN</td>\n",
       "      <td>...</td>\n",
       "      <td>NaN</td>\n",
       "      <td>NaN</td>\n",
       "      <td>Picoeukaryotes</td>\n",
       "      <td>NaN</td>\n",
       "      <td>NaN</td>\n",
       "      <td>10463000.0</td>\n",
       "      <td>number_of_cells_per_L</td>\n",
       "      <td>NaN</td>\n",
       "      <td>2015_2017</td>\n",
       "      <td>NONE</td>\n",
       "    </tr>\n",
       "    <tr>\n",
       "      <th>1360617</th>\n",
       "      <td>Picoeukaryotes</td>\n",
       "      <td>95.0100</td>\n",
       "      <td>-43.0000</td>\n",
       "      <td>1995</td>\n",
       "      <td>9</td>\n",
       "      <td>28.0</td>\n",
       "      <td>0.0</td>\n",
       "      <td>NaN</td>\n",
       "      <td>NaN</td>\n",
       "      <td>NaN</td>\n",
       "      <td>...</td>\n",
       "      <td>NaN</td>\n",
       "      <td>NaN</td>\n",
       "      <td>Picoeukaryotes</td>\n",
       "      <td>NaN</td>\n",
       "      <td>NaN</td>\n",
       "      <td>5163000.0</td>\n",
       "      <td>number_of_cells_per_L</td>\n",
       "      <td>NaN</td>\n",
       "      <td>2015_2017</td>\n",
       "      <td>NONE</td>\n",
       "    </tr>\n",
       "    <tr>\n",
       "      <th>1360618</th>\n",
       "      <td>Picoeukaryotes</td>\n",
       "      <td>95.0100</td>\n",
       "      <td>-43.0000</td>\n",
       "      <td>1995</td>\n",
       "      <td>9</td>\n",
       "      <td>28.0</td>\n",
       "      <td>48.0</td>\n",
       "      <td>NaN</td>\n",
       "      <td>NaN</td>\n",
       "      <td>NaN</td>\n",
       "      <td>...</td>\n",
       "      <td>NaN</td>\n",
       "      <td>NaN</td>\n",
       "      <td>Picoeukaryotes</td>\n",
       "      <td>NaN</td>\n",
       "      <td>NaN</td>\n",
       "      <td>5134000.0</td>\n",
       "      <td>number_of_cells_per_L</td>\n",
       "      <td>NaN</td>\n",
       "      <td>2015_2017</td>\n",
       "      <td>NONE</td>\n",
       "    </tr>\n",
       "    <tr>\n",
       "      <th>1360619</th>\n",
       "      <td>Picoeukaryotes</td>\n",
       "      <td>95.0000</td>\n",
       "      <td>-31.7500</td>\n",
       "      <td>1995</td>\n",
       "      <td>10</td>\n",
       "      <td>2.0</td>\n",
       "      <td>0.0</td>\n",
       "      <td>NaN</td>\n",
       "      <td>NaN</td>\n",
       "      <td>NaN</td>\n",
       "      <td>...</td>\n",
       "      <td>NaN</td>\n",
       "      <td>NaN</td>\n",
       "      <td>Picoeukaryotes</td>\n",
       "      <td>NaN</td>\n",
       "      <td>NaN</td>\n",
       "      <td>10949000.0</td>\n",
       "      <td>number_of_cells_per_L</td>\n",
       "      <td>NaN</td>\n",
       "      <td>2015_2017</td>\n",
       "      <td>NONE</td>\n",
       "    </tr>\n",
       "    <tr>\n",
       "      <th>1360620</th>\n",
       "      <td>Picoeukaryotes</td>\n",
       "      <td>95.0000</td>\n",
       "      <td>-31.7500</td>\n",
       "      <td>1995</td>\n",
       "      <td>10</td>\n",
       "      <td>2.0</td>\n",
       "      <td>53.0</td>\n",
       "      <td>NaN</td>\n",
       "      <td>NaN</td>\n",
       "      <td>NaN</td>\n",
       "      <td>...</td>\n",
       "      <td>NaN</td>\n",
       "      <td>NaN</td>\n",
       "      <td>Picoeukaryotes</td>\n",
       "      <td>NaN</td>\n",
       "      <td>NaN</td>\n",
       "      <td>13946000.0</td>\n",
       "      <td>number_of_cells_per_L</td>\n",
       "      <td>NaN</td>\n",
       "      <td>2015_2017</td>\n",
       "      <td>NONE</td>\n",
       "    </tr>\n",
       "  </tbody>\n",
       "</table>\n",
       "<p>1360621 rows × 34 columns</p>\n",
       "</div>"
      ],
      "text/plain": [
       "                  scientificName  decimalLongitude  decimalLatitude  year  \\\n",
       "0                Carteria marina          -79.2150          -9.4820  2000   \n",
       "1        Coccopterum labyrinthus          -11.6042          40.6832  1993   \n",
       "2        Coccopterum labyrinthus          -11.6042          40.6832  1993   \n",
       "3        Coccopterum labyrinthus          -11.6042          40.6832  1993   \n",
       "4        Coccopterum labyrinthus          -11.6042          40.6832  1993   \n",
       "...                          ...               ...              ...   ...   \n",
       "1360616           Picoeukaryotes           95.0100         -39.9900  1995   \n",
       "1360617           Picoeukaryotes           95.0100         -43.0000  1995   \n",
       "1360618           Picoeukaryotes           95.0100         -43.0000  1995   \n",
       "1360619           Picoeukaryotes           95.0000         -31.7500  1995   \n",
       "1360620           Picoeukaryotes           95.0000         -31.7500  1995   \n",
       "\n",
       "         month   day  depth taxonRank       phylum           class  ...  \\\n",
       "0            2  11.0   10.0   SPECIES  Chlorophyta   Chlorophyceae  ...   \n",
       "1            5  11.0    0.0   SPECIES  Chlorophyta  Prasinophyceae  ...   \n",
       "2            5  11.0  139.0   SPECIES  Chlorophyta  Prasinophyceae  ...   \n",
       "3            5  11.0  181.0   SPECIES  Chlorophyta  Prasinophyceae  ...   \n",
       "4            5  11.0   22.0   SPECIES  Chlorophyta  Prasinophyceae  ...   \n",
       "...        ...   ...    ...       ...          ...             ...  ...   \n",
       "1360616      9  29.0   51.0       NaN          NaN             NaN  ...   \n",
       "1360617      9  28.0    0.0       NaN          NaN             NaN  ...   \n",
       "1360618      9  28.0   48.0       NaN          NaN             NaN  ...   \n",
       "1360619     10   2.0    0.0       NaN          NaN             NaN  ...   \n",
       "1360620     10   2.0   53.0       NaN          NaN             NaN  ...   \n",
       "\n",
       "        scientificNameOriginal_gbif scientificNameOriginal_obis  \\\n",
       "0                               NaN             Carteria marina   \n",
       "1           Coccopterum labyrinthus                         NaN   \n",
       "2           Coccopterum labyrinthus                         NaN   \n",
       "3           Coccopterum labyrinthus                         NaN   \n",
       "4           Coccopterum labyrinthus                         NaN   \n",
       "...                             ...                         ...   \n",
       "1360616                         NaN                         NaN   \n",
       "1360617                         NaN                         NaN   \n",
       "1360618                         NaN                         NaN   \n",
       "1360619                         NaN                         NaN   \n",
       "1360620                         NaN                         NaN   \n",
       "\n",
       "        scientificNameOriginal_maredat scientificNameOriginal_villar  \\\n",
       "0                                  NaN                           NaN   \n",
       "1                                  NaN                           NaN   \n",
       "2                                  NaN                           NaN   \n",
       "3                                  NaN                           NaN   \n",
       "4                                  NaN                           NaN   \n",
       "...                                ...                           ...   \n",
       "1360616                 Picoeukaryotes                           NaN   \n",
       "1360617                 Picoeukaryotes                           NaN   \n",
       "1360618                 Picoeukaryotes                           NaN   \n",
       "1360619                 Picoeukaryotes                           NaN   \n",
       "1360620                 Picoeukaryotes                           NaN   \n",
       "\n",
       "        scientificNameOriginal_sal organismQuantity   organismQuantityType  \\\n",
       "0                              NaN              NaN                    NaN   \n",
       "1                              NaN              NaN                    NaN   \n",
       "2                              NaN              NaN                    NaN   \n",
       "3                              NaN              NaN                    NaN   \n",
       "4                              NaN              NaN                    NaN   \n",
       "...                            ...              ...                    ...   \n",
       "1360616                        NaN       10463000.0  number_of_cells_per_L   \n",
       "1360617                        NaN        5163000.0  number_of_cells_per_L   \n",
       "1360618                        NaN        5134000.0  number_of_cells_per_L   \n",
       "1360619                        NaN       10949000.0  number_of_cells_per_L   \n",
       "1360620                        NaN       13946000.0  number_of_cells_per_L   \n",
       "\n",
       "         individualCount yearOfDataAccess  flag  \n",
       "0                    NaN             2015  NONE  \n",
       "1                    NaN             2017     S  \n",
       "2                    NaN             2017     S  \n",
       "3                    NaN             2017     S  \n",
       "4                    NaN             2017     S  \n",
       "...                  ...              ...   ...  \n",
       "1360616              NaN        2015_2017  NONE  \n",
       "1360617              NaN        2015_2017  NONE  \n",
       "1360618              NaN        2015_2017  NONE  \n",
       "1360619              NaN        2015_2017  NONE  \n",
       "1360620              NaN        2015_2017  NONE  \n",
       "\n",
       "[1360621 rows x 34 columns]"
      ]
     },
     "execution_count": 9,
     "metadata": {},
     "output_type": "execute_result"
    }
   ],
   "source": [
    "df"
   ]
  },
  {
   "cell_type": "code",
   "execution_count": 10,
   "id": "a308ef36",
   "metadata": {},
   "outputs": [],
   "source": [
    "dfhot = df.drop(['scientificNameOriginal_gbif', 'scientificNameOriginal_obis', 'scientificNameOriginal_maredat', 'scientificNameOriginal_villar', 'scientificNameOriginal_sal', 'individualCount', 'yearOfDataAccess'], axis = 1)\n",
    "\n",
    "dfhot['organismQuantity_was_na'] = dfhot['organismQuantity'].isna()\n",
    "dfhot['organismQuantity'] = dfhot['organismQuantity'].fillna(1)\n",
    "\n",
    "dfhot['organismQuantity'] = pd.to_numeric(dfhot['organismQuantity'], errors='coerce')\n"
   ]
  },
  {
   "cell_type": "code",
   "execution_count": 11,
   "id": "f8e055f6",
   "metadata": {},
   "outputs": [
    {
     "data": {
      "text/html": [
       "<div>\n",
       "<style scoped>\n",
       "    .dataframe tbody tr th:only-of-type {\n",
       "        vertical-align: middle;\n",
       "    }\n",
       "\n",
       "    .dataframe tbody tr th {\n",
       "        vertical-align: top;\n",
       "    }\n",
       "\n",
       "    .dataframe thead th {\n",
       "        text-align: right;\n",
       "    }\n",
       "</style>\n",
       "<table border=\"1\" class=\"dataframe\">\n",
       "  <thead>\n",
       "    <tr style=\"text-align: right;\">\n",
       "      <th></th>\n",
       "      <th>scientificName</th>\n",
       "      <th>decimalLongitude</th>\n",
       "      <th>decimalLatitude</th>\n",
       "      <th>year</th>\n",
       "      <th>month</th>\n",
       "      <th>day</th>\n",
       "      <th>depth</th>\n",
       "      <th>taxonRank</th>\n",
       "      <th>phylum</th>\n",
       "      <th>class</th>\n",
       "      <th>...</th>\n",
       "      <th>originDatabase_maredat</th>\n",
       "      <th>cruiseOrStationID_maredat</th>\n",
       "      <th>taraStation_villar</th>\n",
       "      <th>cruise_sal</th>\n",
       "      <th>sampleID_sal</th>\n",
       "      <th>MLD_villar_sal</th>\n",
       "      <th>organismQuantity</th>\n",
       "      <th>organismQuantityType</th>\n",
       "      <th>flag</th>\n",
       "      <th>organismQuantity_was_na</th>\n",
       "    </tr>\n",
       "  </thead>\n",
       "  <tbody>\n",
       "    <tr>\n",
       "      <th>0</th>\n",
       "      <td>Carteria marina</td>\n",
       "      <td>-79.2150</td>\n",
       "      <td>-9.48200</td>\n",
       "      <td>2000</td>\n",
       "      <td>2</td>\n",
       "      <td>11.0</td>\n",
       "      <td>10.0</td>\n",
       "      <td>SPECIES</td>\n",
       "      <td>Chlorophyta</td>\n",
       "      <td>Chlorophyceae</td>\n",
       "      <td>...</td>\n",
       "      <td>NaN</td>\n",
       "      <td>NaN</td>\n",
       "      <td>NaN</td>\n",
       "      <td>NaN</td>\n",
       "      <td>NaN</td>\n",
       "      <td>NaN</td>\n",
       "      <td>1.0</td>\n",
       "      <td>NaN</td>\n",
       "      <td>NONE</td>\n",
       "      <td>True</td>\n",
       "    </tr>\n",
       "    <tr>\n",
       "      <th>1</th>\n",
       "      <td>Coccopterum labyrinthus</td>\n",
       "      <td>-11.6042</td>\n",
       "      <td>40.68320</td>\n",
       "      <td>1993</td>\n",
       "      <td>5</td>\n",
       "      <td>11.0</td>\n",
       "      <td>0.0</td>\n",
       "      <td>SPECIES</td>\n",
       "      <td>Chlorophyta</td>\n",
       "      <td>Prasinophyceae</td>\n",
       "      <td>...</td>\n",
       "      <td>NaN</td>\n",
       "      <td>NaN</td>\n",
       "      <td>NaN</td>\n",
       "      <td>NaN</td>\n",
       "      <td>NaN</td>\n",
       "      <td>NaN</td>\n",
       "      <td>1.0</td>\n",
       "      <td>NaN</td>\n",
       "      <td>S</td>\n",
       "      <td>True</td>\n",
       "    </tr>\n",
       "    <tr>\n",
       "      <th>2</th>\n",
       "      <td>Coccopterum labyrinthus</td>\n",
       "      <td>-11.6042</td>\n",
       "      <td>40.68320</td>\n",
       "      <td>1993</td>\n",
       "      <td>5</td>\n",
       "      <td>11.0</td>\n",
       "      <td>139.0</td>\n",
       "      <td>SPECIES</td>\n",
       "      <td>Chlorophyta</td>\n",
       "      <td>Prasinophyceae</td>\n",
       "      <td>...</td>\n",
       "      <td>NaN</td>\n",
       "      <td>NaN</td>\n",
       "      <td>NaN</td>\n",
       "      <td>NaN</td>\n",
       "      <td>NaN</td>\n",
       "      <td>NaN</td>\n",
       "      <td>1.0</td>\n",
       "      <td>NaN</td>\n",
       "      <td>S</td>\n",
       "      <td>True</td>\n",
       "    </tr>\n",
       "    <tr>\n",
       "      <th>3</th>\n",
       "      <td>Coccopterum labyrinthus</td>\n",
       "      <td>-11.6042</td>\n",
       "      <td>40.68320</td>\n",
       "      <td>1993</td>\n",
       "      <td>5</td>\n",
       "      <td>11.0</td>\n",
       "      <td>181.0</td>\n",
       "      <td>SPECIES</td>\n",
       "      <td>Chlorophyta</td>\n",
       "      <td>Prasinophyceae</td>\n",
       "      <td>...</td>\n",
       "      <td>NaN</td>\n",
       "      <td>NaN</td>\n",
       "      <td>NaN</td>\n",
       "      <td>NaN</td>\n",
       "      <td>NaN</td>\n",
       "      <td>NaN</td>\n",
       "      <td>1.0</td>\n",
       "      <td>NaN</td>\n",
       "      <td>S</td>\n",
       "      <td>True</td>\n",
       "    </tr>\n",
       "    <tr>\n",
       "      <th>4</th>\n",
       "      <td>Coccopterum labyrinthus</td>\n",
       "      <td>-11.6042</td>\n",
       "      <td>40.68320</td>\n",
       "      <td>1993</td>\n",
       "      <td>5</td>\n",
       "      <td>11.0</td>\n",
       "      <td>22.0</td>\n",
       "      <td>SPECIES</td>\n",
       "      <td>Chlorophyta</td>\n",
       "      <td>Prasinophyceae</td>\n",
       "      <td>...</td>\n",
       "      <td>NaN</td>\n",
       "      <td>NaN</td>\n",
       "      <td>NaN</td>\n",
       "      <td>NaN</td>\n",
       "      <td>NaN</td>\n",
       "      <td>NaN</td>\n",
       "      <td>1.0</td>\n",
       "      <td>NaN</td>\n",
       "      <td>S</td>\n",
       "      <td>True</td>\n",
       "    </tr>\n",
       "    <tr>\n",
       "      <th>...</th>\n",
       "      <td>...</td>\n",
       "      <td>...</td>\n",
       "      <td>...</td>\n",
       "      <td>...</td>\n",
       "      <td>...</td>\n",
       "      <td>...</td>\n",
       "      <td>...</td>\n",
       "      <td>...</td>\n",
       "      <td>...</td>\n",
       "      <td>...</td>\n",
       "      <td>...</td>\n",
       "      <td>...</td>\n",
       "      <td>...</td>\n",
       "      <td>...</td>\n",
       "      <td>...</td>\n",
       "      <td>...</td>\n",
       "      <td>...</td>\n",
       "      <td>...</td>\n",
       "      <td>...</td>\n",
       "      <td>...</td>\n",
       "      <td>...</td>\n",
       "    </tr>\n",
       "    <tr>\n",
       "      <th>495</th>\n",
       "      <td>Halosphaera viridis</td>\n",
       "      <td>-115.7167</td>\n",
       "      <td>29.48333</td>\n",
       "      <td>1987</td>\n",
       "      <td>3</td>\n",
       "      <td>10.0</td>\n",
       "      <td>50.0</td>\n",
       "      <td>SPECIES</td>\n",
       "      <td>Chlorophyta</td>\n",
       "      <td>Pyramimonadophyceae</td>\n",
       "      <td>...</td>\n",
       "      <td>NaN</td>\n",
       "      <td>NaN</td>\n",
       "      <td>NaN</td>\n",
       "      <td>NaN</td>\n",
       "      <td>NaN</td>\n",
       "      <td>NaN</td>\n",
       "      <td>1.0</td>\n",
       "      <td>NaN</td>\n",
       "      <td>NONE</td>\n",
       "      <td>True</td>\n",
       "    </tr>\n",
       "    <tr>\n",
       "      <th>496</th>\n",
       "      <td>Halosphaera viridis</td>\n",
       "      <td>-115.7167</td>\n",
       "      <td>29.48333</td>\n",
       "      <td>1987</td>\n",
       "      <td>3</td>\n",
       "      <td>21.0</td>\n",
       "      <td>0.0</td>\n",
       "      <td>SPECIES</td>\n",
       "      <td>Chlorophyta</td>\n",
       "      <td>Pyramimonadophyceae</td>\n",
       "      <td>...</td>\n",
       "      <td>NaN</td>\n",
       "      <td>NaN</td>\n",
       "      <td>NaN</td>\n",
       "      <td>NaN</td>\n",
       "      <td>NaN</td>\n",
       "      <td>NaN</td>\n",
       "      <td>1.0</td>\n",
       "      <td>NaN</td>\n",
       "      <td>NONE</td>\n",
       "      <td>True</td>\n",
       "    </tr>\n",
       "    <tr>\n",
       "      <th>497</th>\n",
       "      <td>Halosphaera viridis</td>\n",
       "      <td>-115.7167</td>\n",
       "      <td>29.48333</td>\n",
       "      <td>1987</td>\n",
       "      <td>3</td>\n",
       "      <td>21.0</td>\n",
       "      <td>10.0</td>\n",
       "      <td>SPECIES</td>\n",
       "      <td>Chlorophyta</td>\n",
       "      <td>Pyramimonadophyceae</td>\n",
       "      <td>...</td>\n",
       "      <td>NaN</td>\n",
       "      <td>NaN</td>\n",
       "      <td>NaN</td>\n",
       "      <td>NaN</td>\n",
       "      <td>NaN</td>\n",
       "      <td>NaN</td>\n",
       "      <td>1.0</td>\n",
       "      <td>NaN</td>\n",
       "      <td>NONE</td>\n",
       "      <td>True</td>\n",
       "    </tr>\n",
       "    <tr>\n",
       "      <th>498</th>\n",
       "      <td>Halosphaera viridis</td>\n",
       "      <td>-115.7167</td>\n",
       "      <td>29.48333</td>\n",
       "      <td>1987</td>\n",
       "      <td>3</td>\n",
       "      <td>21.0</td>\n",
       "      <td>175.0</td>\n",
       "      <td>SPECIES</td>\n",
       "      <td>Chlorophyta</td>\n",
       "      <td>Pyramimonadophyceae</td>\n",
       "      <td>...</td>\n",
       "      <td>NaN</td>\n",
       "      <td>NaN</td>\n",
       "      <td>NaN</td>\n",
       "      <td>NaN</td>\n",
       "      <td>NaN</td>\n",
       "      <td>NaN</td>\n",
       "      <td>1.0</td>\n",
       "      <td>NaN</td>\n",
       "      <td>NONE</td>\n",
       "      <td>True</td>\n",
       "    </tr>\n",
       "    <tr>\n",
       "      <th>499</th>\n",
       "      <td>Halosphaera viridis</td>\n",
       "      <td>-115.7167</td>\n",
       "      <td>29.48333</td>\n",
       "      <td>1987</td>\n",
       "      <td>3</td>\n",
       "      <td>21.0</td>\n",
       "      <td>25.0</td>\n",
       "      <td>SPECIES</td>\n",
       "      <td>Chlorophyta</td>\n",
       "      <td>Pyramimonadophyceae</td>\n",
       "      <td>...</td>\n",
       "      <td>NaN</td>\n",
       "      <td>NaN</td>\n",
       "      <td>NaN</td>\n",
       "      <td>NaN</td>\n",
       "      <td>NaN</td>\n",
       "      <td>NaN</td>\n",
       "      <td>1.0</td>\n",
       "      <td>NaN</td>\n",
       "      <td>NONE</td>\n",
       "      <td>True</td>\n",
       "    </tr>\n",
       "  </tbody>\n",
       "</table>\n",
       "<p>500 rows × 28 columns</p>\n",
       "</div>"
      ],
      "text/plain": [
       "              scientificName  decimalLongitude  decimalLatitude  year  month  \\\n",
       "0            Carteria marina          -79.2150         -9.48200  2000      2   \n",
       "1    Coccopterum labyrinthus          -11.6042         40.68320  1993      5   \n",
       "2    Coccopterum labyrinthus          -11.6042         40.68320  1993      5   \n",
       "3    Coccopterum labyrinthus          -11.6042         40.68320  1993      5   \n",
       "4    Coccopterum labyrinthus          -11.6042         40.68320  1993      5   \n",
       "..                       ...               ...              ...   ...    ...   \n",
       "495      Halosphaera viridis         -115.7167         29.48333  1987      3   \n",
       "496      Halosphaera viridis         -115.7167         29.48333  1987      3   \n",
       "497      Halosphaera viridis         -115.7167         29.48333  1987      3   \n",
       "498      Halosphaera viridis         -115.7167         29.48333  1987      3   \n",
       "499      Halosphaera viridis         -115.7167         29.48333  1987      3   \n",
       "\n",
       "      day  depth taxonRank       phylum                class  ...  \\\n",
       "0    11.0   10.0   SPECIES  Chlorophyta        Chlorophyceae  ...   \n",
       "1    11.0    0.0   SPECIES  Chlorophyta       Prasinophyceae  ...   \n",
       "2    11.0  139.0   SPECIES  Chlorophyta       Prasinophyceae  ...   \n",
       "3    11.0  181.0   SPECIES  Chlorophyta       Prasinophyceae  ...   \n",
       "4    11.0   22.0   SPECIES  Chlorophyta       Prasinophyceae  ...   \n",
       "..    ...    ...       ...          ...                  ...  ...   \n",
       "495  10.0   50.0   SPECIES  Chlorophyta  Pyramimonadophyceae  ...   \n",
       "496  21.0    0.0   SPECIES  Chlorophyta  Pyramimonadophyceae  ...   \n",
       "497  21.0   10.0   SPECIES  Chlorophyta  Pyramimonadophyceae  ...   \n",
       "498  21.0  175.0   SPECIES  Chlorophyta  Pyramimonadophyceae  ...   \n",
       "499  21.0   25.0   SPECIES  Chlorophyta  Pyramimonadophyceae  ...   \n",
       "\n",
       "    originDatabase_maredat cruiseOrStationID_maredat taraStation_villar  \\\n",
       "0                      NaN                       NaN                NaN   \n",
       "1                      NaN                       NaN                NaN   \n",
       "2                      NaN                       NaN                NaN   \n",
       "3                      NaN                       NaN                NaN   \n",
       "4                      NaN                       NaN                NaN   \n",
       "..                     ...                       ...                ...   \n",
       "495                    NaN                       NaN                NaN   \n",
       "496                    NaN                       NaN                NaN   \n",
       "497                    NaN                       NaN                NaN   \n",
       "498                    NaN                       NaN                NaN   \n",
       "499                    NaN                       NaN                NaN   \n",
       "\n",
       "    cruise_sal sampleID_sal MLD_villar_sal organismQuantity  \\\n",
       "0          NaN          NaN            NaN              1.0   \n",
       "1          NaN          NaN            NaN              1.0   \n",
       "2          NaN          NaN            NaN              1.0   \n",
       "3          NaN          NaN            NaN              1.0   \n",
       "4          NaN          NaN            NaN              1.0   \n",
       "..         ...          ...            ...              ...   \n",
       "495        NaN          NaN            NaN              1.0   \n",
       "496        NaN          NaN            NaN              1.0   \n",
       "497        NaN          NaN            NaN              1.0   \n",
       "498        NaN          NaN            NaN              1.0   \n",
       "499        NaN          NaN            NaN              1.0   \n",
       "\n",
       "     organismQuantityType  flag organismQuantity_was_na  \n",
       "0                     NaN  NONE                    True  \n",
       "1                     NaN     S                    True  \n",
       "2                     NaN     S                    True  \n",
       "3                     NaN     S                    True  \n",
       "4                     NaN     S                    True  \n",
       "..                    ...   ...                     ...  \n",
       "495                   NaN  NONE                    True  \n",
       "496                   NaN  NONE                    True  \n",
       "497                   NaN  NONE                    True  \n",
       "498                   NaN  NONE                    True  \n",
       "499                   NaN  NONE                    True  \n",
       "\n",
       "[500 rows x 28 columns]"
      ]
     },
     "execution_count": 11,
     "metadata": {},
     "output_type": "execute_result"
    }
   ],
   "source": [
    "dfhot.head(500)"
   ]
  },
  {
   "cell_type": "code",
   "execution_count": 12,
   "id": "94719058",
   "metadata": {},
   "outputs": [],
   "source": [
    "import plotly.express as px\n",
    "hotspot_df = dfhot.dropna(subset=['organismQuantity', 'organismQuantityType', 'decimalLatitude', 'decimalLongitude'])\n"
   ]
  },
  {
   "cell_type": "code",
   "execution_count": 14,
   "id": "71d42e82",
   "metadata": {},
   "outputs": [
    {
     "name": "stdout",
     "output_type": "stream",
     "text": [
      "Found 33011 partial matches for 'leptocylindrus'.\n"
     ]
    },
    {
     "data": {
      "application/vnd.plotly.v1+json": {
       "config": {
        "plotlyServerURL": "https://plot.ly"
       },
       "data": [
        {
         "geo": "geo",
         "hovertemplate": "<b>%{hovertext}</b><br><br>organismQuantity=%{marker.color}<br>decimalLatitude=%{lat}<br>decimalLongitude=%{lon}<extra></extra>",
         "hovertext": [
          "Leptocylindrus mediterraneus",
          "Leptocylindrus mediterraneus",
          "Leptocylindrus danicus",
          "Leptocylindrus danicus"
         ],
         "lat": [
          17.54,
          19.93,
          19.9972,
          20.0847
         ],
         "legendgroup": "",
         "lon": [
          71.41,
          68.5,
          69.0283,
          69.6436
         ],
         "marker": {
          "color": [
           300,
           300,
           1,
           1
          ],
          "coloraxis": "coloraxis",
          "size": [
           300,
           300,
           1,
           1
          ],
          "sizemode": "area",
          "sizeref": 0.75,
          "symbol": "circle"
         },
         "mode": "markers",
         "name": "",
         "showlegend": false,
         "type": "scattergeo"
        }
       ],
       "layout": {
        "coloraxis": {
         "colorbar": {
          "title": {
           "text": "organismQuantity"
          }
         },
         "colorscale": [
          [
           0,
           "#0d0887"
          ],
          [
           0.1111111111111111,
           "#46039f"
          ],
          [
           0.2222222222222222,
           "#7201a8"
          ],
          [
           0.3333333333333333,
           "#9c179e"
          ],
          [
           0.4444444444444444,
           "#bd3786"
          ],
          [
           0.5555555555555556,
           "#d8576b"
          ],
          [
           0.6666666666666666,
           "#ed7953"
          ],
          [
           0.7777777777777778,
           "#fb9f3a"
          ],
          [
           0.8888888888888888,
           "#fdca26"
          ],
          [
           1,
           "#f0f921"
          ]
         ]
        },
        "geo": {
         "center": {},
         "domain": {
          "x": [
           0,
           1
          ],
          "y": [
           0,
           1
          ]
         },
         "projection": {
          "type": "natural earth"
         }
        },
        "height": 600,
        "legend": {
         "itemsizing": "constant",
         "tracegroupgap": 0
        },
        "template": {
         "data": {
          "bar": [
           {
            "error_x": {
             "color": "#2a3f5f"
            },
            "error_y": {
             "color": "#2a3f5f"
            },
            "marker": {
             "line": {
              "color": "#E5ECF6",
              "width": 0.5
             },
             "pattern": {
              "fillmode": "overlay",
              "size": 10,
              "solidity": 0.2
             }
            },
            "type": "bar"
           }
          ],
          "barpolar": [
           {
            "marker": {
             "line": {
              "color": "#E5ECF6",
              "width": 0.5
             },
             "pattern": {
              "fillmode": "overlay",
              "size": 10,
              "solidity": 0.2
             }
            },
            "type": "barpolar"
           }
          ],
          "carpet": [
           {
            "aaxis": {
             "endlinecolor": "#2a3f5f",
             "gridcolor": "white",
             "linecolor": "white",
             "minorgridcolor": "white",
             "startlinecolor": "#2a3f5f"
            },
            "baxis": {
             "endlinecolor": "#2a3f5f",
             "gridcolor": "white",
             "linecolor": "white",
             "minorgridcolor": "white",
             "startlinecolor": "#2a3f5f"
            },
            "type": "carpet"
           }
          ],
          "choropleth": [
           {
            "colorbar": {
             "outlinewidth": 0,
             "ticks": ""
            },
            "type": "choropleth"
           }
          ],
          "contour": [
           {
            "colorbar": {
             "outlinewidth": 0,
             "ticks": ""
            },
            "colorscale": [
             [
              0,
              "#0d0887"
             ],
             [
              0.1111111111111111,
              "#46039f"
             ],
             [
              0.2222222222222222,
              "#7201a8"
             ],
             [
              0.3333333333333333,
              "#9c179e"
             ],
             [
              0.4444444444444444,
              "#bd3786"
             ],
             [
              0.5555555555555556,
              "#d8576b"
             ],
             [
              0.6666666666666666,
              "#ed7953"
             ],
             [
              0.7777777777777778,
              "#fb9f3a"
             ],
             [
              0.8888888888888888,
              "#fdca26"
             ],
             [
              1,
              "#f0f921"
             ]
            ],
            "type": "contour"
           }
          ],
          "contourcarpet": [
           {
            "colorbar": {
             "outlinewidth": 0,
             "ticks": ""
            },
            "type": "contourcarpet"
           }
          ],
          "heatmap": [
           {
            "colorbar": {
             "outlinewidth": 0,
             "ticks": ""
            },
            "colorscale": [
             [
              0,
              "#0d0887"
             ],
             [
              0.1111111111111111,
              "#46039f"
             ],
             [
              0.2222222222222222,
              "#7201a8"
             ],
             [
              0.3333333333333333,
              "#9c179e"
             ],
             [
              0.4444444444444444,
              "#bd3786"
             ],
             [
              0.5555555555555556,
              "#d8576b"
             ],
             [
              0.6666666666666666,
              "#ed7953"
             ],
             [
              0.7777777777777778,
              "#fb9f3a"
             ],
             [
              0.8888888888888888,
              "#fdca26"
             ],
             [
              1,
              "#f0f921"
             ]
            ],
            "type": "heatmap"
           }
          ],
          "heatmapgl": [
           {
            "colorbar": {
             "outlinewidth": 0,
             "ticks": ""
            },
            "colorscale": [
             [
              0,
              "#0d0887"
             ],
             [
              0.1111111111111111,
              "#46039f"
             ],
             [
              0.2222222222222222,
              "#7201a8"
             ],
             [
              0.3333333333333333,
              "#9c179e"
             ],
             [
              0.4444444444444444,
              "#bd3786"
             ],
             [
              0.5555555555555556,
              "#d8576b"
             ],
             [
              0.6666666666666666,
              "#ed7953"
             ],
             [
              0.7777777777777778,
              "#fb9f3a"
             ],
             [
              0.8888888888888888,
              "#fdca26"
             ],
             [
              1,
              "#f0f921"
             ]
            ],
            "type": "heatmapgl"
           }
          ],
          "histogram": [
           {
            "marker": {
             "pattern": {
              "fillmode": "overlay",
              "size": 10,
              "solidity": 0.2
             }
            },
            "type": "histogram"
           }
          ],
          "histogram2d": [
           {
            "colorbar": {
             "outlinewidth": 0,
             "ticks": ""
            },
            "colorscale": [
             [
              0,
              "#0d0887"
             ],
             [
              0.1111111111111111,
              "#46039f"
             ],
             [
              0.2222222222222222,
              "#7201a8"
             ],
             [
              0.3333333333333333,
              "#9c179e"
             ],
             [
              0.4444444444444444,
              "#bd3786"
             ],
             [
              0.5555555555555556,
              "#d8576b"
             ],
             [
              0.6666666666666666,
              "#ed7953"
             ],
             [
              0.7777777777777778,
              "#fb9f3a"
             ],
             [
              0.8888888888888888,
              "#fdca26"
             ],
             [
              1,
              "#f0f921"
             ]
            ],
            "type": "histogram2d"
           }
          ],
          "histogram2dcontour": [
           {
            "colorbar": {
             "outlinewidth": 0,
             "ticks": ""
            },
            "colorscale": [
             [
              0,
              "#0d0887"
             ],
             [
              0.1111111111111111,
              "#46039f"
             ],
             [
              0.2222222222222222,
              "#7201a8"
             ],
             [
              0.3333333333333333,
              "#9c179e"
             ],
             [
              0.4444444444444444,
              "#bd3786"
             ],
             [
              0.5555555555555556,
              "#d8576b"
             ],
             [
              0.6666666666666666,
              "#ed7953"
             ],
             [
              0.7777777777777778,
              "#fb9f3a"
             ],
             [
              0.8888888888888888,
              "#fdca26"
             ],
             [
              1,
              "#f0f921"
             ]
            ],
            "type": "histogram2dcontour"
           }
          ],
          "mesh3d": [
           {
            "colorbar": {
             "outlinewidth": 0,
             "ticks": ""
            },
            "type": "mesh3d"
           }
          ],
          "parcoords": [
           {
            "line": {
             "colorbar": {
              "outlinewidth": 0,
              "ticks": ""
             }
            },
            "type": "parcoords"
           }
          ],
          "pie": [
           {
            "automargin": true,
            "type": "pie"
           }
          ],
          "scatter": [
           {
            "fillpattern": {
             "fillmode": "overlay",
             "size": 10,
             "solidity": 0.2
            },
            "type": "scatter"
           }
          ],
          "scatter3d": [
           {
            "line": {
             "colorbar": {
              "outlinewidth": 0,
              "ticks": ""
             }
            },
            "marker": {
             "colorbar": {
              "outlinewidth": 0,
              "ticks": ""
             }
            },
            "type": "scatter3d"
           }
          ],
          "scattercarpet": [
           {
            "marker": {
             "colorbar": {
              "outlinewidth": 0,
              "ticks": ""
             }
            },
            "type": "scattercarpet"
           }
          ],
          "scattergeo": [
           {
            "marker": {
             "colorbar": {
              "outlinewidth": 0,
              "ticks": ""
             }
            },
            "type": "scattergeo"
           }
          ],
          "scattergl": [
           {
            "marker": {
             "colorbar": {
              "outlinewidth": 0,
              "ticks": ""
             }
            },
            "type": "scattergl"
           }
          ],
          "scattermapbox": [
           {
            "marker": {
             "colorbar": {
              "outlinewidth": 0,
              "ticks": ""
             }
            },
            "type": "scattermapbox"
           }
          ],
          "scatterpolar": [
           {
            "marker": {
             "colorbar": {
              "outlinewidth": 0,
              "ticks": ""
             }
            },
            "type": "scatterpolar"
           }
          ],
          "scatterpolargl": [
           {
            "marker": {
             "colorbar": {
              "outlinewidth": 0,
              "ticks": ""
             }
            },
            "type": "scatterpolargl"
           }
          ],
          "scatterternary": [
           {
            "marker": {
             "colorbar": {
              "outlinewidth": 0,
              "ticks": ""
             }
            },
            "type": "scatterternary"
           }
          ],
          "surface": [
           {
            "colorbar": {
             "outlinewidth": 0,
             "ticks": ""
            },
            "colorscale": [
             [
              0,
              "#0d0887"
             ],
             [
              0.1111111111111111,
              "#46039f"
             ],
             [
              0.2222222222222222,
              "#7201a8"
             ],
             [
              0.3333333333333333,
              "#9c179e"
             ],
             [
              0.4444444444444444,
              "#bd3786"
             ],
             [
              0.5555555555555556,
              "#d8576b"
             ],
             [
              0.6666666666666666,
              "#ed7953"
             ],
             [
              0.7777777777777778,
              "#fb9f3a"
             ],
             [
              0.8888888888888888,
              "#fdca26"
             ],
             [
              1,
              "#f0f921"
             ]
            ],
            "type": "surface"
           }
          ],
          "table": [
           {
            "cells": {
             "fill": {
              "color": "#EBF0F8"
             },
             "line": {
              "color": "white"
             }
            },
            "header": {
             "fill": {
              "color": "#C8D4E3"
             },
             "line": {
              "color": "white"
             }
            },
            "type": "table"
           }
          ]
         },
         "layout": {
          "annotationdefaults": {
           "arrowcolor": "#2a3f5f",
           "arrowhead": 0,
           "arrowwidth": 1
          },
          "autotypenumbers": "strict",
          "coloraxis": {
           "colorbar": {
            "outlinewidth": 0,
            "ticks": ""
           }
          },
          "colorscale": {
           "diverging": [
            [
             0,
             "#8e0152"
            ],
            [
             0.1,
             "#c51b7d"
            ],
            [
             0.2,
             "#de77ae"
            ],
            [
             0.3,
             "#f1b6da"
            ],
            [
             0.4,
             "#fde0ef"
            ],
            [
             0.5,
             "#f7f7f7"
            ],
            [
             0.6,
             "#e6f5d0"
            ],
            [
             0.7,
             "#b8e186"
            ],
            [
             0.8,
             "#7fbc41"
            ],
            [
             0.9,
             "#4d9221"
            ],
            [
             1,
             "#276419"
            ]
           ],
           "sequential": [
            [
             0,
             "#0d0887"
            ],
            [
             0.1111111111111111,
             "#46039f"
            ],
            [
             0.2222222222222222,
             "#7201a8"
            ],
            [
             0.3333333333333333,
             "#9c179e"
            ],
            [
             0.4444444444444444,
             "#bd3786"
            ],
            [
             0.5555555555555556,
             "#d8576b"
            ],
            [
             0.6666666666666666,
             "#ed7953"
            ],
            [
             0.7777777777777778,
             "#fb9f3a"
            ],
            [
             0.8888888888888888,
             "#fdca26"
            ],
            [
             1,
             "#f0f921"
            ]
           ],
           "sequentialminus": [
            [
             0,
             "#0d0887"
            ],
            [
             0.1111111111111111,
             "#46039f"
            ],
            [
             0.2222222222222222,
             "#7201a8"
            ],
            [
             0.3333333333333333,
             "#9c179e"
            ],
            [
             0.4444444444444444,
             "#bd3786"
            ],
            [
             0.5555555555555556,
             "#d8576b"
            ],
            [
             0.6666666666666666,
             "#ed7953"
            ],
            [
             0.7777777777777778,
             "#fb9f3a"
            ],
            [
             0.8888888888888888,
             "#fdca26"
            ],
            [
             1,
             "#f0f921"
            ]
           ]
          },
          "colorway": [
           "#636efa",
           "#EF553B",
           "#00cc96",
           "#ab63fa",
           "#FFA15A",
           "#19d3f3",
           "#FF6692",
           "#B6E880",
           "#FF97FF",
           "#FECB52"
          ],
          "font": {
           "color": "#2a3f5f"
          },
          "geo": {
           "bgcolor": "white",
           "lakecolor": "white",
           "landcolor": "#E5ECF6",
           "showlakes": true,
           "showland": true,
           "subunitcolor": "white"
          },
          "hoverlabel": {
           "align": "left"
          },
          "hovermode": "closest",
          "mapbox": {
           "style": "light"
          },
          "paper_bgcolor": "white",
          "plot_bgcolor": "#E5ECF6",
          "polar": {
           "angularaxis": {
            "gridcolor": "white",
            "linecolor": "white",
            "ticks": ""
           },
           "bgcolor": "#E5ECF6",
           "radialaxis": {
            "gridcolor": "white",
            "linecolor": "white",
            "ticks": ""
           }
          },
          "scene": {
           "xaxis": {
            "backgroundcolor": "#E5ECF6",
            "gridcolor": "white",
            "gridwidth": 2,
            "linecolor": "white",
            "showbackground": true,
            "ticks": "",
            "zerolinecolor": "white"
           },
           "yaxis": {
            "backgroundcolor": "#E5ECF6",
            "gridcolor": "white",
            "gridwidth": 2,
            "linecolor": "white",
            "showbackground": true,
            "ticks": "",
            "zerolinecolor": "white"
           },
           "zaxis": {
            "backgroundcolor": "#E5ECF6",
            "gridcolor": "white",
            "gridwidth": 2,
            "linecolor": "white",
            "showbackground": true,
            "ticks": "",
            "zerolinecolor": "white"
           }
          },
          "shapedefaults": {
           "line": {
            "color": "#2a3f5f"
           }
          },
          "ternary": {
           "aaxis": {
            "gridcolor": "white",
            "linecolor": "white",
            "ticks": ""
           },
           "baxis": {
            "gridcolor": "white",
            "linecolor": "white",
            "ticks": ""
           },
           "bgcolor": "#E5ECF6",
           "caxis": {
            "gridcolor": "white",
            "linecolor": "white",
            "ticks": ""
           }
          },
          "title": {
           "x": 0.05
          },
          "xaxis": {
           "automargin": true,
           "gridcolor": "white",
           "linecolor": "white",
           "ticks": "",
           "title": {
            "standoff": 15
           },
           "zerolinecolor": "white",
           "zerolinewidth": 2
          },
          "yaxis": {
           "automargin": true,
           "gridcolor": "white",
           "linecolor": "white",
           "ticks": "",
           "title": {
            "standoff": 15
           },
           "zerolinecolor": "white",
           "zerolinewidth": 2
          }
         }
        },
        "title": {
         "text": "Top hotspots for leptocylindrus — India-priority (india_region) (aggregated, top 10000)"
        }
       }
      }
     },
     "metadata": {},
     "output_type": "display_data"
    }
   ],
   "source": [
    "import plotly.express as px\n",
    "\n",
    "# prepare dfhot (drop extras) and keep a flag for filled quantities\n",
    "dfhot = df.drop([\n",
    "    'scientificNameOriginal_gbif','scientificNameOriginal_obis',\n",
    "    'scientificNameOriginal_maredat','scientificNameOriginal_villar',\n",
    "    'scientificNameOriginal_sal','individualCount','yearOfDataAccess'\n",
    "], axis=1)\n",
    "\n",
    "dfhot['organismQuantity_was_na'] = dfhot['organismQuantity'].isna()\n",
    "dfhot['organismQuantity'] = dfhot['organismQuantity'].fillna(1)\n",
    "dfhot['organismQuantity'] = pd.to_numeric(dfhot['organismQuantity'], errors='coerce')\n",
    "\n",
    "# Ask user\n",
    "scientific_name = input(\"Enter the scientific name to plot: \").strip()\n",
    "\n",
    "# find matches globally first (exact, then partial)\n",
    "base = dfhot[dfhot['scientificName'].astype(str).notna()].copy()\n",
    "exact_matches = base[base['scientificName'].astype(str).str.strip() == scientific_name]\n",
    "\n",
    "if exact_matches.empty:\n",
    "    # try case-insensitive contains on species epithet (or full string)\n",
    "    candidates = base[base['scientificName'].astype(str).str.contains(scientific_name, case=False, na=False)]\n",
    "    if candidates.empty:\n",
    "        # suggest similar names\n",
    "        suggestions = base['scientificName'].dropna().astype(str).str.strip().value_counts().head(20)\n",
    "        print(\"No exact or partial matches found for:\", scientific_name)\n",
    "        print(\"Top 20 most frequent scientificName values (use one of these or try a partial):\")\n",
    "        print(suggestions)\n",
    "        raise SystemExit\n",
    "    else:\n",
    "        print(f\"Found {len(candidates)} partial matches for '{scientific_name}'.\")\n",
    "        species_df_global = candidates.copy()\n",
    "else:\n",
    "    species_df_global = exact_matches.copy()\n",
    "    print(f\"Found {len(species_df_global)} exact matches for '{scientific_name}'.\")\n",
    "\n",
    "# India-priority filtering\n",
    "if prioritize_india:\n",
    "    species_df_region = filter_to_region(species_df_global, mode=region_mode)\n",
    "    if species_df_region.empty and region_mode == 'india_land':\n",
    "        # fallback to bbox if land polygon produced none\n",
    "        species_df_region = filter_to_region(species_df_global, mode='india_region')\n",
    "    if species_df_region.empty:\n",
    "        print(\"No rows in selected India region; falling back to global for plotting.\")\n",
    "        species_df = species_df_global.copy()\n",
    "        title_prefix = f\"{scientific_name} — global (India-priority fallback)\"\n",
    "    else:\n",
    "        species_df = species_df_region.copy()\n",
    "        title_prefix = f\"{scientific_name} — India-priority ({region_mode})\"\n",
    "else:\n",
    "    species_df = species_df_global.copy()\n",
    "    title_prefix = f\"{scientific_name} — global\"\n",
    "\n",
    "# ensure numeric coords and drop rows missing coords\n",
    "species_df['decimalLatitude'] = pd.to_numeric(species_df['decimalLatitude'], errors='coerce')\n",
    "species_df['decimalLongitude'] = pd.to_numeric(species_df['decimalLongitude'], errors='coerce')\n",
    "species_df = species_df.dropna(subset=['decimalLatitude','decimalLongitude','organismQuantity'])\n",
    "\n",
    "if species_df.empty:\n",
    "    print(\"No rows with valid coordinates and organismQuantity to plot for this selection.\")\n",
    "    raise SystemExit\n",
    "\n",
    "# optionally aggregate by rounded coordinates to reduce overlap / size\n",
    "species_df['lat_round'] = species_df['decimalLatitude'].round(4)\n",
    "species_df['lon_round'] = species_df['decimalLongitude'].round(4)\n",
    "agg = species_df.groupby(['lat_round','lon_round']).agg({\n",
    "    'organismQuantity':'sum',\n",
    "    'scientificName':'first'\n",
    "}).reset_index().rename(columns={'lat_round':'decimalLatitude','lon_round':'decimalLongitude'})\n",
    "\n",
    "# take top N to avoid lag\n",
    "agg = agg.sort_values('organismQuantity', ascending=False).head(10000)\n",
    "\n",
    "fig = px.scatter_geo(\n",
    "    \n",
    "    agg,\n",
    "    lat='decimalLatitude',\n",
    "    lon='decimalLongitude',\n",
    "    color='organismQuantity',\n",
    "    size='organismQuantity',\n",
    "    hover_name='scientificName',\n",
    "    projection='natural earth',\n",
    "    title=f'Top hotspots for {title_prefix} (aggregated, top 10000)'\n",
    ")\n",
    "fig.update_layout(height=600)\n",
    "fig.show()"
   ]
  },
  {
   "cell_type": "code",
   "execution_count": null,
   "id": "a0063209",
   "metadata": {},
   "outputs": [],
   "source": []
  }
 ],
 "metadata": {
  "kernelspec": {
   "display_name": "base",
   "language": "python",
   "name": "python3"
  },
  "language_info": {
   "codemirror_mode": {
    "name": "ipython",
    "version": 3
   },
   "file_extension": ".py",
   "mimetype": "text/x-python",
   "name": "python",
   "nbconvert_exporter": "python",
   "pygments_lexer": "ipython3",
   "version": "3.12.2"
  }
 },
 "nbformat": 4,
 "nbformat_minor": 5
}
